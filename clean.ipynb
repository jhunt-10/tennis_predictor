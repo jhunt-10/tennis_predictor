{
 "cells": [
  {
   "cell_type": "code",
   "execution_count": 2,
   "id": "7687ff01",
   "metadata": {},
   "outputs": [],
   "source": [
    "import pandas as pd\n",
    "import numpy as np"
   ]
  },
  {
   "cell_type": "code",
   "execution_count": 3,
   "id": "ceb59e1c",
   "metadata": {},
   "outputs": [],
   "source": [
    "data = pd.read_csv(\"data/atp_matches_1990.csv\")"
   ]
  },
  {
   "cell_type": "code",
   "execution_count": 4,
   "id": "aa4ab7ba",
   "metadata": {},
   "outputs": [],
   "source": [
    "y = 1991"
   ]
  },
  {
   "cell_type": "code",
   "execution_count": 5,
   "id": "cd12382a",
   "metadata": {},
   "outputs": [],
   "source": [
    "while y < 2025:\n",
    "    temp = pd.read_csv(f\"data/atp_matches_{y}.csv\")\n",
    "    data = pd.concat([data, temp], ignore_index=True)\n",
    "    y += 1"
   ]
  },
  {
   "cell_type": "code",
   "execution_count": 6,
   "id": "0714ae73",
   "metadata": {},
   "outputs": [],
   "source": [
    "df = data"
   ]
  },
  {
   "cell_type": "code",
   "execution_count": 7,
   "id": "eb39b7a8",
   "metadata": {},
   "outputs": [],
   "source": [
    "new_columns = {col: col.replace('winner', 'w') for col in df.columns if col.startswith('winner')}\n"
   ]
  },
  {
   "cell_type": "code",
   "execution_count": 8,
   "id": "cfa7417a",
   "metadata": {},
   "outputs": [
    {
     "data": {
      "text/plain": [
       "{'winner_id': 'w_id',\n",
       " 'winner_seed': 'w_seed',\n",
       " 'winner_entry': 'w_entry',\n",
       " 'winner_name': 'w_name',\n",
       " 'winner_hand': 'w_hand',\n",
       " 'winner_ht': 'w_ht',\n",
       " 'winner_ioc': 'w_ioc',\n",
       " 'winner_age': 'w_age',\n",
       " 'winner_rank': 'w_rank',\n",
       " 'winner_rank_points': 'w_rank_points'}"
      ]
     },
     "execution_count": 8,
     "metadata": {},
     "output_type": "execute_result"
    }
   ],
   "source": [
    "new_columns"
   ]
  },
  {
   "cell_type": "code",
   "execution_count": 9,
   "id": "af75ca7a",
   "metadata": {},
   "outputs": [],
   "source": [
    "new_columns.update({col: col.replace('loser', 'l') for col in df.columns if col.startswith(\"loser\")})"
   ]
  },
  {
   "cell_type": "code",
   "execution_count": 10,
   "id": "408e80cf",
   "metadata": {},
   "outputs": [],
   "source": [
    "df = df.rename(columns=new_columns)"
   ]
  },
  {
   "cell_type": "code",
   "execution_count": 11,
   "id": "7af1d99d",
   "metadata": {},
   "outputs": [],
   "source": [
    "winner_cols = [col for col in df.columns if col.startswith('w')]\n",
    "loser_cols = [col for col in df.columns if col.startswith('l')]\n",
    "other_cols = [col for col in df.columns if col not in winner_cols and col not in loser_cols]"
   ]
  },
  {
   "cell_type": "code",
   "execution_count": 12,
   "id": "1d0a7ea9",
   "metadata": {},
   "outputs": [],
   "source": [
    "stat_names = [col.replace('w_', '') for col in winner_cols]"
   ]
  },
  {
   "cell_type": "code",
   "execution_count": 13,
   "id": "fd75bab3",
   "metadata": {},
   "outputs": [],
   "source": [
    "swap_mask = np.random.rand(len(df)) < 0.5"
   ]
  },
  {
   "cell_type": "code",
   "execution_count": 14,
   "id": "d31ea89f",
   "metadata": {},
   "outputs": [],
   "source": [
    "new_df = pd.DataFrame()"
   ]
  },
  {
   "cell_type": "code",
   "execution_count": 15,
   "id": "ff20f856",
   "metadata": {},
   "outputs": [],
   "source": [
    "for stat in stat_names:\n",
    "    winner_stat_col = f'w_{stat}'\n",
    "    loser_stat_col = f'l_{stat}'\n",
    "    \n",
    "    new_df[f'p1_{stat}'] = np.where(swap_mask, df[loser_stat_col], df[winner_stat_col])\n",
    "    \n",
    "    new_df[f'p2_{stat}'] = np.where(swap_mask, df[winner_stat_col], df[loser_stat_col])"
   ]
  },
  {
   "cell_type": "code",
   "execution_count": 16,
   "id": "b04a5f5e",
   "metadata": {},
   "outputs": [],
   "source": [
    "new_df['winner'] = np.where(swap_mask, 'p2', 'p1')"
   ]
  },
  {
   "cell_type": "code",
   "execution_count": 17,
   "id": "e592a5c6",
   "metadata": {},
   "outputs": [],
   "source": [
    "for col in other_cols:\n",
    "    new_df[col] = df[col]"
   ]
  },
  {
   "cell_type": "code",
   "execution_count": 18,
   "id": "a1f8f010",
   "metadata": {},
   "outputs": [],
   "source": [
    "new_df['tourney_date'] = pd.to_datetime(new_df['tourney_date'], format='%Y%m%d')"
   ]
  },
  {
   "cell_type": "code",
   "execution_count": 21,
   "id": "f95cb818",
   "metadata": {},
   "outputs": [
    {
     "name": "stderr",
     "output_type": "stream",
     "text": [
      "/var/folders/3m/83d_phts1yg9dsv29rxnq4n80000gn/T/ipykernel_35325/816518900.py:1: DtypeWarning: Columns (7) have mixed types. Specify dtype option on import or set low_memory=False.\n",
      "  players = pd.read_csv(\"data/atp_players.csv\")\n"
     ]
    }
   ],
   "source": [
    "players = pd.read_csv(\"data/atp_players.csv\")"
   ]
  },
  {
   "cell_type": "code",
   "execution_count": 23,
   "id": "dd63ac09",
   "metadata": {},
   "outputs": [
    {
     "data": {
      "text/html": [
       "<div>\n",
       "<style scoped>\n",
       "    .dataframe tbody tr th:only-of-type {\n",
       "        vertical-align: middle;\n",
       "    }\n",
       "\n",
       "    .dataframe tbody tr th {\n",
       "        vertical-align: top;\n",
       "    }\n",
       "\n",
       "    .dataframe thead th {\n",
       "        text-align: right;\n",
       "    }\n",
       "</style>\n",
       "<table border=\"1\" class=\"dataframe\">\n",
       "  <thead>\n",
       "    <tr style=\"text-align: right;\">\n",
       "      <th></th>\n",
       "      <th>player_id</th>\n",
       "      <th>name_first</th>\n",
       "      <th>name_last</th>\n",
       "      <th>hand</th>\n",
       "      <th>dob</th>\n",
       "      <th>ioc</th>\n",
       "      <th>height</th>\n",
       "      <th>wikidata_id</th>\n",
       "    </tr>\n",
       "  </thead>\n",
       "  <tbody>\n",
       "    <tr>\n",
       "      <th>0</th>\n",
       "      <td>100001</td>\n",
       "      <td>Gardnar</td>\n",
       "      <td>Mulloy</td>\n",
       "      <td>R</td>\n",
       "      <td>19131122.0</td>\n",
       "      <td>USA</td>\n",
       "      <td>185.0</td>\n",
       "      <td>Q54544</td>\n",
       "    </tr>\n",
       "    <tr>\n",
       "      <th>1</th>\n",
       "      <td>100002</td>\n",
       "      <td>Pancho</td>\n",
       "      <td>Segura</td>\n",
       "      <td>R</td>\n",
       "      <td>19210620.0</td>\n",
       "      <td>ECU</td>\n",
       "      <td>168.0</td>\n",
       "      <td>Q54581</td>\n",
       "    </tr>\n",
       "    <tr>\n",
       "      <th>2</th>\n",
       "      <td>100003</td>\n",
       "      <td>Frank</td>\n",
       "      <td>Sedgman</td>\n",
       "      <td>R</td>\n",
       "      <td>19271002.0</td>\n",
       "      <td>AUS</td>\n",
       "      <td>180.0</td>\n",
       "      <td>Q962049</td>\n",
       "    </tr>\n",
       "    <tr>\n",
       "      <th>3</th>\n",
       "      <td>100004</td>\n",
       "      <td>Giuseppe</td>\n",
       "      <td>Merlo</td>\n",
       "      <td>R</td>\n",
       "      <td>19271011.0</td>\n",
       "      <td>ITA</td>\n",
       "      <td>NaN</td>\n",
       "      <td>Q1258752</td>\n",
       "    </tr>\n",
       "    <tr>\n",
       "      <th>4</th>\n",
       "      <td>100005</td>\n",
       "      <td>Richard</td>\n",
       "      <td>Gonzalez</td>\n",
       "      <td>R</td>\n",
       "      <td>19280509.0</td>\n",
       "      <td>USA</td>\n",
       "      <td>188.0</td>\n",
       "      <td>Q53554</td>\n",
       "    </tr>\n",
       "  </tbody>\n",
       "</table>\n",
       "</div>"
      ],
      "text/plain": [
       "   player_id name_first name_last hand         dob  ioc  height wikidata_id\n",
       "0     100001    Gardnar    Mulloy    R  19131122.0  USA   185.0      Q54544\n",
       "1     100002     Pancho    Segura    R  19210620.0  ECU   168.0      Q54581\n",
       "2     100003      Frank   Sedgman    R  19271002.0  AUS   180.0     Q962049\n",
       "3     100004   Giuseppe     Merlo    R  19271011.0  ITA     NaN    Q1258752\n",
       "4     100005    Richard  Gonzalez    R  19280509.0  USA   188.0      Q53554"
      ]
     },
     "execution_count": 23,
     "metadata": {},
     "output_type": "execute_result"
    }
   ],
   "source": [
    "players.head()"
   ]
  },
  {
   "cell_type": "code",
   "execution_count": 24,
   "id": "5f405ace",
   "metadata": {},
   "outputs": [
    {
     "data": {
      "text/html": [
       "<div>\n",
       "<style scoped>\n",
       "    .dataframe tbody tr th:only-of-type {\n",
       "        vertical-align: middle;\n",
       "    }\n",
       "\n",
       "    .dataframe tbody tr th {\n",
       "        vertical-align: top;\n",
       "    }\n",
       "\n",
       "    .dataframe thead th {\n",
       "        text-align: right;\n",
       "    }\n",
       "</style>\n",
       "<table border=\"1\" class=\"dataframe\">\n",
       "  <thead>\n",
       "    <tr style=\"text-align: right;\">\n",
       "      <th></th>\n",
       "      <th>p1_id</th>\n",
       "      <th>p2_id</th>\n",
       "      <th>p1_seed</th>\n",
       "      <th>p2_seed</th>\n",
       "      <th>p1_entry</th>\n",
       "      <th>p2_entry</th>\n",
       "      <th>p1_name</th>\n",
       "      <th>p2_name</th>\n",
       "      <th>p1_hand</th>\n",
       "      <th>p2_hand</th>\n",
       "      <th>...</th>\n",
       "      <th>tourney_name</th>\n",
       "      <th>surface</th>\n",
       "      <th>draw_size</th>\n",
       "      <th>tourney_level</th>\n",
       "      <th>tourney_date</th>\n",
       "      <th>match_num</th>\n",
       "      <th>score</th>\n",
       "      <th>best_of</th>\n",
       "      <th>round</th>\n",
       "      <th>minutes</th>\n",
       "    </tr>\n",
       "  </thead>\n",
       "  <tbody>\n",
       "    <tr>\n",
       "      <th>0</th>\n",
       "      <td>101843</td>\n",
       "      <td>101632</td>\n",
       "      <td>1.0</td>\n",
       "      <td>NaN</td>\n",
       "      <td>NaN</td>\n",
       "      <td>Q</td>\n",
       "      <td>Sergi Bruguera</td>\n",
       "      <td>Per Henricsson</td>\n",
       "      <td>R</td>\n",
       "      <td>R</td>\n",
       "      <td>...</td>\n",
       "      <td>Adelaide</td>\n",
       "      <td>Hard</td>\n",
       "      <td>32</td>\n",
       "      <td>A</td>\n",
       "      <td>1990-01-01</td>\n",
       "      <td>1</td>\n",
       "      <td>7-6 6-2</td>\n",
       "      <td>3</td>\n",
       "      <td>R32</td>\n",
       "      <td>NaN</td>\n",
       "    </tr>\n",
       "    <tr>\n",
       "      <th>1</th>\n",
       "      <td>100714</td>\n",
       "      <td>101096</td>\n",
       "      <td>NaN</td>\n",
       "      <td>NaN</td>\n",
       "      <td>WC</td>\n",
       "      <td>NaN</td>\n",
       "      <td>Broderick Dyke</td>\n",
       "      <td>Gary Muller</td>\n",
       "      <td>L</td>\n",
       "      <td>L</td>\n",
       "      <td>...</td>\n",
       "      <td>Adelaide</td>\n",
       "      <td>Hard</td>\n",
       "      <td>32</td>\n",
       "      <td>A</td>\n",
       "      <td>1990-01-01</td>\n",
       "      <td>2</td>\n",
       "      <td>6-4 6-4</td>\n",
       "      <td>3</td>\n",
       "      <td>R32</td>\n",
       "      <td>NaN</td>\n",
       "    </tr>\n",
       "    <tr>\n",
       "      <th>2</th>\n",
       "      <td>101232</td>\n",
       "      <td>101529</td>\n",
       "      <td>NaN</td>\n",
       "      <td>NaN</td>\n",
       "      <td>NaN</td>\n",
       "      <td>NaN</td>\n",
       "      <td>Nicklas Kroon</td>\n",
       "      <td>Michael Stich</td>\n",
       "      <td>R</td>\n",
       "      <td>R</td>\n",
       "      <td>...</td>\n",
       "      <td>Adelaide</td>\n",
       "      <td>Hard</td>\n",
       "      <td>32</td>\n",
       "      <td>A</td>\n",
       "      <td>1990-01-01</td>\n",
       "      <td>3</td>\n",
       "      <td>6-4 6-3</td>\n",
       "      <td>3</td>\n",
       "      <td>R32</td>\n",
       "      <td>NaN</td>\n",
       "    </tr>\n",
       "    <tr>\n",
       "      <th>3</th>\n",
       "      <td>101434</td>\n",
       "      <td>100628</td>\n",
       "      <td>NaN</td>\n",
       "      <td>7.0</td>\n",
       "      <td>NaN</td>\n",
       "      <td>NaN</td>\n",
       "      <td>Petr Korda</td>\n",
       "      <td>Michiel Schapers</td>\n",
       "      <td>L</td>\n",
       "      <td>R</td>\n",
       "      <td>...</td>\n",
       "      <td>Adelaide</td>\n",
       "      <td>Hard</td>\n",
       "      <td>32</td>\n",
       "      <td>A</td>\n",
       "      <td>1990-01-01</td>\n",
       "      <td>4</td>\n",
       "      <td>6-3 6-4</td>\n",
       "      <td>3</td>\n",
       "      <td>R32</td>\n",
       "      <td>NaN</td>\n",
       "    </tr>\n",
       "    <tr>\n",
       "      <th>4</th>\n",
       "      <td>101404</td>\n",
       "      <td>101387</td>\n",
       "      <td>3.0</td>\n",
       "      <td>NaN</td>\n",
       "      <td>NaN</td>\n",
       "      <td>NaN</td>\n",
       "      <td>Thomas Muster</td>\n",
       "      <td>Claudio Pistolesi</td>\n",
       "      <td>L</td>\n",
       "      <td>R</td>\n",
       "      <td>...</td>\n",
       "      <td>Adelaide</td>\n",
       "      <td>Hard</td>\n",
       "      <td>32</td>\n",
       "      <td>A</td>\n",
       "      <td>1990-01-01</td>\n",
       "      <td>5</td>\n",
       "      <td>6-4 4-6 6-3</td>\n",
       "      <td>3</td>\n",
       "      <td>R32</td>\n",
       "      <td>NaN</td>\n",
       "    </tr>\n",
       "  </tbody>\n",
       "</table>\n",
       "<p>5 rows × 50 columns</p>\n",
       "</div>"
      ],
      "text/plain": [
       "    p1_id   p2_id  p1_seed  p2_seed p1_entry p2_entry         p1_name  \\\n",
       "0  101843  101632      1.0      NaN      NaN        Q  Sergi Bruguera   \n",
       "1  100714  101096      NaN      NaN       WC      NaN  Broderick Dyke   \n",
       "2  101232  101529      NaN      NaN      NaN      NaN   Nicklas Kroon   \n",
       "3  101434  100628      NaN      7.0      NaN      NaN      Petr Korda   \n",
       "4  101404  101387      3.0      NaN      NaN      NaN   Thomas Muster   \n",
       "\n",
       "             p2_name p1_hand p2_hand  ...  tourney_name  surface draw_size  \\\n",
       "0     Per Henricsson       R       R  ...      Adelaide     Hard        32   \n",
       "1        Gary Muller       L       L  ...      Adelaide     Hard        32   \n",
       "2      Michael Stich       R       R  ...      Adelaide     Hard        32   \n",
       "3   Michiel Schapers       L       R  ...      Adelaide     Hard        32   \n",
       "4  Claudio Pistolesi       L       R  ...      Adelaide     Hard        32   \n",
       "\n",
       "  tourney_level  tourney_date  match_num        score  best_of  round  minutes  \n",
       "0             A    1990-01-01          1      7-6 6-2        3    R32      NaN  \n",
       "1             A    1990-01-01          2      6-4 6-4        3    R32      NaN  \n",
       "2             A    1990-01-01          3      6-4 6-3        3    R32      NaN  \n",
       "3             A    1990-01-01          4      6-3 6-4        3    R32      NaN  \n",
       "4             A    1990-01-01          5  6-4 4-6 6-3        3    R32      NaN  \n",
       "\n",
       "[5 rows x 50 columns]"
      ]
     },
     "execution_count": 24,
     "metadata": {},
     "output_type": "execute_result"
    }
   ],
   "source": [
    "new_df.head()"
   ]
  },
  {
   "cell_type": "code",
   "execution_count": 25,
   "id": "41f40e31",
   "metadata": {},
   "outputs": [],
   "source": [
    "new_df = new_df.sort_values(by='tourney_date').reset_index(drop=True)"
   ]
  },
  {
   "cell_type": "code",
   "execution_count": 26,
   "id": "7418d771",
   "metadata": {},
   "outputs": [],
   "source": [
    "p_ids = new_df[['p1_id', 'p2_id']].astype(str)\n",
    "new_df['matchup_id'] = p_ids.min(axis=1) + '-' + p_ids.max(axis=1)"
   ]
  },
  {
   "cell_type": "code",
   "execution_count": 53,
   "id": "90ea4586",
   "metadata": {},
   "outputs": [],
   "source": [
    "new_df['low_won'] = (((new_df['winner'] == 'p1') & (new_df['p1_id'] < new_df['p2_id'])) | ((new_df['winner'] == 'p2') & (new_df['p2_id'] < new_df['p1_id']))).astype(int)\n",
    "new_df['high_won'] = (((new_df['winner'] == 'p1') & (new_df['p1_id'] > new_df['p2_id'])) | ((new_df['winner'] == 'p2') & (new_df['p2_id'] > new_df['p1_id']))).astype(int)"
   ]
  },
  {
   "cell_type": "code",
   "execution_count": 57,
   "id": "6d157cc9",
   "metadata": {},
   "outputs": [],
   "source": [
    "cumulative_wins = new_df.groupby('matchup_id')[['low_won', 'high_won']].cumsum()"
   ]
  },
  {
   "cell_type": "code",
   "execution_count": null,
   "id": "068d1713",
   "metadata": {},
   "outputs": [],
   "source": [
    "new_df['high_won'] = cumulative_wins['high_won']\n",
    "new_df['low_won'] =  cumulative_wins['low_won']"
   ]
  },
  {
   "cell_type": "code",
   "execution_count": 86,
   "id": "172a5153",
   "metadata": {},
   "outputs": [],
   "source": [
    "new_df['low_won'] = new_df.groupby('matchup_id')['low_won'].shift(1).fillna(0).astype(int)\n",
    "new_df['high_won'] = new_df.groupby('matchup_id')['high_won'].shift(1).fillna(0).astype(int)"
   ]
  },
  {
   "cell_type": "code",
   "execution_count": null,
   "id": "1f207974",
   "metadata": {},
   "outputs": [],
   "source": [
    "#djokovic 104925 nadal 104745"
   ]
  },
  {
   "cell_type": "code",
   "execution_count": 117,
   "id": "b0d69f41",
   "metadata": {},
   "outputs": [],
   "source": [
    "new_df = new_df.sort_values(by=\"tourney_date\").reset_index(drop=True)"
   ]
  },
  {
   "cell_type": "code",
   "execution_count": 128,
   "id": "9c14ecff",
   "metadata": {},
   "outputs": [],
   "source": [
    "new_df['low_won_surface'] = (((new_df['winner'] == 'p1') & (new_df['p1_id'] < new_df['p2_id'])) | ((new_df['winner'] == 'p2') & (new_df['p2_id'] < new_df['p1_id']))).astype(int)\n",
    "new_df['high_won_surface'] = (((new_df['winner'] == 'p1') & (new_df['p1_id'] > new_df['p2_id'])) | ((new_df['winner'] == 'p2') & (new_df['p2_id'] > new_df['p1_id']))).astype(int)"
   ]
  },
  {
   "cell_type": "code",
   "execution_count": 129,
   "id": "5ef681ec",
   "metadata": {},
   "outputs": [],
   "source": [
    "cumulative_surface_wins = new_df.groupby(['matchup_id', \"surface\"])[['low_won_surface', 'high_won_surface']].cumsum()"
   ]
  },
  {
   "cell_type": "code",
   "execution_count": 130,
   "id": "80b30625",
   "metadata": {},
   "outputs": [],
   "source": [
    "new_df['high_won_surface'] = cumulative_surface_wins['high_won_surface']\n",
    "new_df['low_won_surface'] =  cumulative_surface_wins['low_won_surface']"
   ]
  },
  {
   "cell_type": "code",
   "execution_count": 131,
   "id": "ca347641",
   "metadata": {},
   "outputs": [],
   "source": [
    "new_df['low_won_surface'] = new_df.groupby(['matchup_id', 'surface'])['low_won_surface'].shift(1).fillna(0).astype(int)\n",
    "new_df['high_won_surface'] = new_df.groupby(['matchup_id', 'surface'])['high_won_surface'].shift(1).fillna(0).astype(int)"
   ]
  },
  {
   "cell_type": "code",
   "execution_count": null,
   "id": "ceedbfdb",
   "metadata": {},
   "outputs": [],
   "source": [
    "# TODO write the ELO methods, one for win differential, one for k-score, one for update and one to initialize"
   ]
  },
  {
   "cell_type": "code",
   "execution_count": null,
   "id": "cf32d332",
   "metadata": {},
   "outputs": [],
   "source": [
    "def update_elos():\n",
    "    return"
   ]
  }
 ],
 "metadata": {
  "kernelspec": {
   "display_name": "tennis_predict-FY7Ombp3",
   "language": "python",
   "name": "python3"
  },
  "language_info": {
   "codemirror_mode": {
    "name": "ipython",
    "version": 3
   },
   "file_extension": ".py",
   "mimetype": "text/x-python",
   "name": "python",
   "nbconvert_exporter": "python",
   "pygments_lexer": "ipython3",
   "version": "3.12.11"
  }
 },
 "nbformat": 4,
 "nbformat_minor": 5
}
