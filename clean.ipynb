{
 "cells": [
  {
   "cell_type": "code",
   "execution_count": 6,
   "id": "7687ff01",
   "metadata": {},
   "outputs": [],
   "source": [
    "import pandas as pd\n",
    "import numpy as np"
   ]
  },
  {
   "cell_type": "code",
   "execution_count": null,
   "id": "ceb59e1c",
   "metadata": {},
   "outputs": [],
   "source": [
    "tennis_df = pd.read_csv(\"data/atp_matches_1990.csv\")"
   ]
  },
  {
   "cell_type": "code",
   "execution_count": 8,
   "id": "aa4ab7ba",
   "metadata": {},
   "outputs": [],
   "source": [
    "year = 1991"
   ]
  },
  {
   "cell_type": "code",
   "execution_count": null,
   "id": "cd12382a",
   "metadata": {},
   "outputs": [],
   "source": [
    "while year < 2025:\n",
    "    temp = pd.read_csv(f\"data/atp_matches_{year}.csv\")\n",
    "    tennis_df = pd.concat([tennis_df, temp], ignore_index=True)\n",
    "    year += 1"
   ]
  },
  {
   "cell_type": "code",
   "execution_count": null,
   "id": "eb39b7a8",
   "metadata": {},
   "outputs": [],
   "source": [
    "new_columns = {col: col.replace('winner', 'w') for col in tennis_df.columns if col.startswith('winner')}\n"
   ]
  },
  {
   "cell_type": "code",
   "execution_count": null,
   "id": "af75ca7a",
   "metadata": {},
   "outputs": [],
   "source": [
    "new_columns.update({col: col.replace('loser', 'l') for col in tennis_df.columns if col.startswith(\"loser\")})"
   ]
  },
  {
   "cell_type": "code",
   "execution_count": null,
   "id": "408e80cf",
   "metadata": {},
   "outputs": [],
   "source": [
    "tennis_df = tennis_df.rename(columns=new_columns)"
   ]
  },
  {
   "cell_type": "code",
   "execution_count": null,
   "id": "7af1d99d",
   "metadata": {},
   "outputs": [],
   "source": [
    "winner_cols = [col for col in tennis_df.columns if col.startswith('w')]\n",
    "loser_cols = [col for col in tennis_df.columns if col.startswith('l')]\n",
    "other_cols = [col for col in tennis_df.columns if col not in winner_cols and col not in loser_cols]"
   ]
  },
  {
   "cell_type": "code",
   "execution_count": 14,
   "id": "1d0a7ea9",
   "metadata": {},
   "outputs": [],
   "source": [
    "stat_names = [col.replace('w_', '') for col in winner_cols]"
   ]
  },
  {
   "cell_type": "code",
   "execution_count": null,
   "id": "fd75bab3",
   "metadata": {},
   "outputs": [],
   "source": [
    "swap_mask = np.random.rand(len(tennis_df)) < 0.5"
   ]
  },
  {
   "cell_type": "code",
   "execution_count": 16,
   "id": "d31ea89f",
   "metadata": {},
   "outputs": [],
   "source": [
    "new_df = pd.DataFrame()"
   ]
  },
  {
   "cell_type": "code",
   "execution_count": null,
   "id": "ff20f856",
   "metadata": {},
   "outputs": [],
   "source": [
    "for stat in stat_names:\n",
    "    winner_stat_col = f'w_{stat}'\n",
    "    loser_stat_col = f'l_{stat}'\n",
    "    \n",
    "    new_df[f'p1_{stat}'] = np.where(swap_mask, tennis_df[loser_stat_col], tennis_df[winner_stat_col])\n",
    "    \n",
    "    new_df[f'p2_{stat}'] = np.where(swap_mask, tennis_df[winner_stat_col], tennis_df[loser_stat_col])"
   ]
  },
  {
   "cell_type": "code",
   "execution_count": 18,
   "id": "b04a5f5e",
   "metadata": {},
   "outputs": [],
   "source": [
    "new_df['winner'] = np.where(swap_mask, 'p2', 'p1')"
   ]
  },
  {
   "cell_type": "code",
   "execution_count": null,
   "id": "e592a5c6",
   "metadata": {},
   "outputs": [],
   "source": [
    "for col in other_cols:\n",
    "    new_df[col] = tennis_df[col]"
   ]
  },
  {
   "cell_type": "code",
   "execution_count": 20,
   "id": "a1f8f010",
   "metadata": {},
   "outputs": [],
   "source": [
    "new_df['tourney_date'] = pd.to_datetime(new_df['tourney_date'], format='%Y%m%d')"
   ]
  },
  {
   "cell_type": "code",
   "execution_count": 21,
   "id": "f95cb818",
   "metadata": {},
   "outputs": [
    {
     "name": "stderr",
     "output_type": "stream",
     "text": [
      "/var/folders/3m/83d_phts1yg9dsv29rxnq4n80000gn/T/ipykernel_72649/816518900.py:1: DtypeWarning: Columns (7) have mixed types. Specify dtype option on import or set low_memory=False.\n",
      "  players = pd.read_csv(\"data/atp_players.csv\")\n"
     ]
    }
   ],
   "source": [
    "players = pd.read_csv(\"data/atp_players.csv\")"
   ]
  },
  {
   "cell_type": "code",
   "execution_count": 22,
   "id": "41f40e31",
   "metadata": {},
   "outputs": [],
   "source": [
    "new_df = new_df.sort_values(by='tourney_date').reset_index(drop=True)"
   ]
  },
  {
   "cell_type": "code",
   "execution_count": 23,
   "id": "7418d771",
   "metadata": {},
   "outputs": [],
   "source": [
    "p_ids = new_df[['p1_id', 'p2_id']].astype(str)\n",
    "new_df['matchup_id'] = p_ids.min(axis=1) + '-' + p_ids.max(axis=1)"
   ]
  },
  {
   "cell_type": "code",
   "execution_count": 24,
   "id": "90ea4586",
   "metadata": {},
   "outputs": [],
   "source": [
    "new_df['low_won'] = (((new_df['winner'] == 'p1') & (new_df['p1_id'] < new_df['p2_id'])) | ((new_df['winner'] == 'p2') & (new_df['p2_id'] < new_df['p1_id']))).astype(int)\n",
    "new_df['high_won'] = (((new_df['winner'] == 'p1') & (new_df['p1_id'] > new_df['p2_id'])) | ((new_df['winner'] == 'p2') & (new_df['p2_id'] > new_df['p1_id']))).astype(int)"
   ]
  },
  {
   "cell_type": "code",
   "execution_count": 25,
   "id": "6d157cc9",
   "metadata": {},
   "outputs": [],
   "source": [
    "cumulative_wins = new_df.groupby('matchup_id')[['low_won', 'high_won']].cumsum()"
   ]
  },
  {
   "cell_type": "code",
   "execution_count": 26,
   "id": "068d1713",
   "metadata": {},
   "outputs": [],
   "source": [
    "new_df['high_won'] = cumulative_wins['high_won']\n",
    "new_df['low_won'] =  cumulative_wins['low_won']"
   ]
  },
  {
   "cell_type": "code",
   "execution_count": 27,
   "id": "172a5153",
   "metadata": {},
   "outputs": [],
   "source": [
    "new_df['low_won'] = new_df.groupby('matchup_id')['low_won'].shift(1).fillna(0).astype(int)\n",
    "new_df['high_won'] = new_df.groupby('matchup_id')['high_won'].shift(1).fillna(0).astype(int)"
   ]
  },
  {
   "cell_type": "code",
   "execution_count": 28,
   "id": "1f207974",
   "metadata": {},
   "outputs": [],
   "source": [
    "#djokovic 104925 nadal 104745"
   ]
  },
  {
   "cell_type": "code",
   "execution_count": 29,
   "id": "b0d69f41",
   "metadata": {},
   "outputs": [],
   "source": [
    "new_df = new_df.sort_values(by=\"tourney_date\").reset_index(drop=True)"
   ]
  },
  {
   "cell_type": "code",
   "execution_count": 30,
   "id": "9c14ecff",
   "metadata": {},
   "outputs": [],
   "source": [
    "new_df['low_won_surface'] = (((new_df['winner'] == 'p1') & (new_df['p1_id'] < new_df['p2_id'])) | ((new_df['winner'] == 'p2') & (new_df['p2_id'] < new_df['p1_id']))).astype(int)\n",
    "new_df['high_won_surface'] = (((new_df['winner'] == 'p1') & (new_df['p1_id'] > new_df['p2_id'])) | ((new_df['winner'] == 'p2') & (new_df['p2_id'] > new_df['p1_id']))).astype(int)"
   ]
  },
  {
   "cell_type": "code",
   "execution_count": 31,
   "id": "5ef681ec",
   "metadata": {},
   "outputs": [],
   "source": [
    "cumulative_surface_wins = new_df.groupby(['matchup_id', \"surface\"])[['low_won_surface', 'high_won_surface']].cumsum()"
   ]
  },
  {
   "cell_type": "code",
   "execution_count": 32,
   "id": "80b30625",
   "metadata": {},
   "outputs": [],
   "source": [
    "new_df['high_won_surface'] = cumulative_surface_wins['high_won_surface']\n",
    "new_df['low_won_surface'] =  cumulative_surface_wins['low_won_surface']"
   ]
  },
  {
   "cell_type": "code",
   "execution_count": 33,
   "id": "ca347641",
   "metadata": {},
   "outputs": [],
   "source": [
    "new_df['low_won_surface'] = new_df.groupby(['matchup_id', 'surface'])['low_won_surface'].shift(1).fillna(0).astype(int)\n",
    "new_df['high_won_surface'] = new_df.groupby(['matchup_id', 'surface'])['high_won_surface'].shift(1).fillna(0).astype(int)"
   ]
  },
  {
   "cell_type": "code",
   "execution_count": 34,
   "id": "ceedbfdb",
   "metadata": {},
   "outputs": [],
   "source": [
    "# TODO write the ELO methods, one for win differential, one for k-score, one for update and one to initialize"
   ]
  },
  {
   "cell_type": "code",
   "execution_count": 77,
   "id": "678f8491",
   "metadata": {},
   "outputs": [],
   "source": [
    "import re\n",
    "\n",
    "def calculate_winner_game_differential(score_string: str) -> int:\n",
    "    total_differential = 0\n",
    "    sets = score_string.split(' ')\n",
    "\n",
    "    for set_score in sets:\n",
    "        clean_set_score = re.sub(r'\\(.*\\)', '', set_score).strip()\n",
    "\n",
    "        if clean_set_score.upper() == \"RET\":\n",
    "            return 0\n",
    "\n",
    "        try:\n",
    "            winner_games_str, loser_games_str = clean_set_score.split('-')\n",
    "            winner_games = int(winner_games_str)\n",
    "            loser_games = int(loser_games_str)\n",
    "\n",
    "            total_differential += (winner_games - loser_games)\n",
    "        except ValueError:\n",
    "            print(f\"Warning: Could not parse set score '{set_score}'. Skipping this set.\")\n",
    "            continue\n",
    "        except IndexError:\n",
    "            print(f\"Warning: Malformed set score '{set_score}'. Skipping this set.\")\n",
    "            continue\n",
    "\n",
    "    return total_differential"
   ]
  },
  {
   "cell_type": "code",
   "execution_count": 87,
   "id": "fce212ac",
   "metadata": {},
   "outputs": [],
   "source": [
    "players['elo'] = 1500\n",
    "players['matches_played'] = 0\n",
    "players['elo_clay'] = 1500\n",
    "players['elo_hard'] = 1500\n",
    "players['elo_grass'] = 1500\n",
    "players['elo_carpet'] = 1500\n",
    "players['svpt'] = 0\n",
    "players['1st_in'] = 0\n",
    "players['1st_won'] = 0\n",
    "players['2nd_won'] = 0\n",
    "players['ace'] = 0\n",
    "players['df'] = 0\n",
    "players['bp_sv'] = 0\n",
    "players['bp_won'] = 0\n",
    "players['bp_faced'] = 0\n"
   ]
  },
  {
   "cell_type": "code",
   "execution_count": 95,
   "id": "d13cb29a",
   "metadata": {},
   "outputs": [],
   "source": [
    "new_df['p1_elo'] = 1500\n",
    "new_df['p1_elo_clay'] = 1500\n",
    "new_df['p1_elo_hard'] = 1500\n",
    "new_df['p1_elo_grass'] = 1500\n",
    "new_df['p1_elo_carpet'] = 1500\n",
    "new_df['p1_1st_in_pct'] = 0\n",
    "new_df['p1_1st_won_pct'] = 0\n",
    "new_df['p1_2nd_won_pct'] = 0\n",
    "new_df['p1_ace_pct'] = 0\n",
    "new_df['p1_df_pct'] = 0\n",
    "new_df['p1_bp_sv_pct'] = 0\n",
    "new_df['p1_bp_won_pct'] = 0\n",
    "\n",
    "new_df['p2_elo'] = 1500\n",
    "new_df['p2_elo_clay'] = 1500\n",
    "new_df['p2_elo_hard'] = 1500\n",
    "new_df['p2_elo_grass'] = 1500\n",
    "new_df['p2_elo_carpet'] = 1500\n",
    "new_df['p2_1st_in_pct'] = 0\n",
    "new_df['p2_1st_won_pct'] = 0\n",
    "new_df['p2_2nd_won_pct'] = 0\n",
    "new_df['p2_ace_pct'] = 0\n",
    "new_df['p2_df_pct'] = 0\n",
    "new_df['p2_bp_sv_pct'] = 0\n",
    "new_df['p2_bp_won_pct'] = 0"
   ]
  },
  {
   "cell_type": "code",
   "execution_count": 66,
   "id": "64d45bf4",
   "metadata": {},
   "outputs": [
    {
     "data": {
      "text/plain": [
       "False"
      ]
     },
     "execution_count": 66,
     "metadata": {},
     "output_type": "execute_result"
    }
   ],
   "source": [
    "players.loc[players['player_id'] == 104745]['name_first'].iloc[0] == \"rafael\""
   ]
  },
  {
   "cell_type": "code",
   "execution_count": 80,
   "id": "6d5a34c2",
   "metadata": {},
   "outputs": [],
   "source": [
    "def calculate_win_multiplier(score_string, winner_elo, loser_elo):\n",
    "    denominator = 2.9\n",
    "    game_differential = calculate_winner_game_differential(score_string)\n",
    "    return np.log((game_differential / denominator) + 1) * (2.2 / ((winner_elo - loser_elo) * 0.001 + 2.2))"
   ]
  },
  {
   "cell_type": "code",
   "execution_count": 81,
   "id": "8be7d854",
   "metadata": {},
   "outputs": [],
   "source": [
    "def calculate_k_factor(player_id, win_mult):\n",
    "    matches_played = players.loc[players['player_id'] == int(player_id)]['matches_played'].iloc[0]\n",
    "    if win_mult is None:\n",
    "        return 800/ matches_played\n",
    "    return win_mult * (800/matches_played)"
   ]
  },
  {
   "cell_type": "code",
   "execution_count": 82,
   "id": "cf32d332",
   "metadata": {},
   "outputs": [],
   "source": [
    "def update_elos(p1_id, p2_id, winner, score_string):\n",
    "    p1_elo = players.loc[players['p1_id'] == int(p1_id)]['elo'].iloc[0]\n",
    "    p2_elo = players.loc[players['p2_id'] == int(p1_id)]['elo'].iloc[0]\n",
    "    winner_elo, loser_elo = p1_elo, p2_elo if winner == \"p1\" else p2_elo, p1_elo\n",
    "\n",
    "    win_multiplier = calculate_win_multiplier(score_string, winner_elo, loser_elo)\n",
    "\n",
    "    p1_k_factor = calculate_k_factor(p1_id, win_multiplier)\n",
    "    p2_k_factor = calculate_k_factor(p2_id, win_multiplier)\n",
    "\n",
    "    p1_prob = 1 / (1 + (10 ** ((p2_elo - p1_elo) / 400)))\n",
    "    p2_prob = 1 - p1_prob\n",
    "\n",
    "    p1_score, p2_score = 1,0 if winner == \"p1\" else 0,1\n",
    "\n",
    "    p1_new_elo = p1_elo + p1_k_factor * (p1_score - p1_prob)\n",
    "    p2_new_elo = p2_elo + p2_k_factor * (p2_score - p2_prob)\n",
    "\n",
    "    return p1_new_elo, p2_new_elo"
   ]
  },
  {
   "cell_type": "code",
   "execution_count": 88,
   "id": "28727279",
   "metadata": {},
   "outputs": [
    {
     "data": {
      "text/plain": [
       "Index(['p1_id', 'p2_id', 'p1_seed', 'p2_seed', 'p1_entry', 'p2_entry',\n",
       "       'p1_name', 'p2_name', 'p1_hand', 'p2_hand', 'p1_ht', 'p2_ht', 'p1_ioc',\n",
       "       'p2_ioc', 'p1_age', 'p2_age', 'p1_ace', 'p2_ace', 'p1_df', 'p2_df',\n",
       "       'p1_svpt', 'p2_svpt', 'p1_1stIn', 'p2_1stIn', 'p1_1stWon', 'p2_1stWon',\n",
       "       'p1_2ndWon', 'p2_2ndWon', 'p1_SvGms', 'p2_SvGms', 'p1_bpSaved',\n",
       "       'p2_bpSaved', 'p1_bpFaced', 'p2_bpFaced', 'p1_rank', 'p2_rank',\n",
       "       'p1_rank_points', 'p2_rank_points', 'winner', 'tourney_id',\n",
       "       'tourney_name', 'surface', 'draw_size', 'tourney_level', 'tourney_date',\n",
       "       'match_num', 'score', 'best_of', 'round', 'minutes', 'matchup_id',\n",
       "       'low_won', 'high_won', 'low_won_surface', 'high_won_surface'],\n",
       "      dtype='object')"
      ]
     },
     "execution_count": 88,
     "metadata": {},
     "output_type": "execute_result"
    }
   ],
   "source": [
    "new_df.columns"
   ]
  },
  {
   "cell_type": "code",
   "execution_count": null,
   "id": "99cb302b",
   "metadata": {},
   "outputs": [],
   "source": [
    "def run_stats(df):\n",
    "    for i, row in df.iterrows():\n",
    "        p1_new_elo, p2_new_elo = update_elos(row['p1_id'], row['p2_id'], row['winner'], row['score'])\n",
    "        df['p1_elo'] = players.loc[players['p1_id'] == int(row['p1_id'])]['elo'].iloc[0]\n",
    "        df['p2_elo'] = players.loc[players['p2_id'] == int(row['p2_id'])]['elo'].iloc[0]\n",
    "\n",
    "        df['p1_elo_clay'] = players.loc[players['p1_id'] == int(row['p1_id'])]['elo_clay'].iloc[0]\n",
    "        df['p2_elo_clay'] = players.loc[players['p2_id'] == int(row['p2_id'])]['elo_clay'].iloc[0]\n",
    "\n",
    "        df['p1_elo_grass'] = players.loc[players['p1_id'] == int(row['p1_id'])]['elo_grass'].iloc[0]\n",
    "        df['p2_elo_grass'] = players.loc[players['p2_id'] == int(row['p2_id'])]['elo_grass'].iloc[0]\n",
    "\n",
    "        df['p1_elo_hard'] = players.loc[players['p1_id'] == int(row['p1_id'])]['elo_hard'].iloc[0]\n",
    "        df['p2_elo_hard'] = players.loc[players['p2_id'] == int(row['p2_id'])]['elo_hard'].iloc[0]\n",
    "\n",
    "        df['p1_elo_carpet'] = players.loc[players['p1_id'] == int(row['p1_id'])]['elo_carpet'].iloc[0]\n",
    "        df['p2_elo_carpet'] = players.loc[players['p2_id'] == int(row['p2_id'])]['elo_carpet'].iloc[0]\n",
    "\n",
    "\n",
    "    ####### TODO Change the p*_elo_*sruface* to one column that computes the elo for the given surface \n",
    "\n",
    "    ### TODO Figure out computations for the pct stats and upadte in this function as well\n",
    "\n",
    "        \n",
    "        ['elo'].iloc[0]\n",
    "        if i > 10:\n",
    "            break"
   ]
  },
  {
   "cell_type": "code",
   "execution_count": 92,
   "id": "e6082417",
   "metadata": {},
   "outputs": [
    {
     "data": {
      "text/plain": [
       "p1_id          104925\n",
       "p2_id          104745\n",
       "p1_seed           NaN\n",
       "p2_seed           2.0\n",
       "p1_entry          NaN\n",
       "                ...  \n",
       "2nd_won_pct         0\n",
       "ace_pct             0\n",
       "df_pct              0\n",
       "bp_sv_pct           0\n",
       "bp_won_pct          0\n",
       "Name: 58450, Length: 67, dtype: object"
      ]
     },
     "execution_count": 92,
     "metadata": {},
     "output_type": "execute_result"
    }
   ],
   "source": [
    "new_df.groupby([\"matchup_id\", 'surface']).get_group(('104745-104925', 'Clay')).iloc[0]"
   ]
  },
  {
   "cell_type": "code",
   "execution_count": null,
   "id": "e10275a5",
   "metadata": {},
   "outputs": [],
   "source": []
  }
 ],
 "metadata": {
  "kernelspec": {
   "display_name": "tennis_predict-FY7Ombp3",
   "language": "python",
   "name": "python3"
  },
  "language_info": {
   "codemirror_mode": {
    "name": "ipython",
    "version": 3
   },
   "file_extension": ".py",
   "mimetype": "text/x-python",
   "name": "python",
   "nbconvert_exporter": "python",
   "pygments_lexer": "ipython3",
   "version": "3.12.11"
  }
 },
 "nbformat": 4,
 "nbformat_minor": 5
}
